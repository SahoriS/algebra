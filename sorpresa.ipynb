{
 "cells": [
  {
   "cell_type": "code",
   "execution_count": 115,
   "metadata": {},
   "outputs": [],
   "source": [
    "using LinearAlgebra"
   ]
  },
  {
   "cell_type": "code",
   "execution_count": 116,
   "metadata": {},
   "outputs": [
    {
     "data": {
      "text/plain": [
       "7×7 Array{Int64,2}:\n",
       " 1  2  3  4  5  6  7\n",
       " 2  1  0  0  0  0  0\n",
       " 3  0  1  0  0  0  0\n",
       " 4  0  0  1  0  0  0\n",
       " 5  0  0  0  1  0  0\n",
       " 6  0  0  0  0  1  0\n",
       " 7  0  0  0  0  0  1"
      ]
     },
     "execution_count": 116,
     "metadata": {},
     "output_type": "execute_result"
    }
   ],
   "source": [
    "A=[1 2 3 4 5 6 7; 2 1 0 0 0 0 0;3 0 1 0 0 0 0; 4 0 0 1 0 0 0; 5 0 0 0 1 0 0; 6 0 0 0 0 1 0; 7 0 0 0 0 0 1]"
   ]
  },
  {
   "cell_type": "code",
   "execution_count": 117,
   "metadata": {},
   "outputs": [
    {
     "data": {
      "text/plain": [
       "7×7 Array{Float64,2}:\n",
       " 1.0  0.0  0.0  0.0  0.0  0.0  0.0\n",
       " 0.0  1.0  0.0  0.0  0.0  0.0  0.0\n",
       " 0.0  0.0  1.0  0.0  0.0  0.0  0.0\n",
       " 0.0  0.0  0.0  1.0  0.0  0.0  0.0\n",
       " 0.0  0.0  0.0  0.0  1.0  0.0  0.0\n",
       " 0.0  0.0  0.0  0.0  0.0  1.0  0.0\n",
       " 0.0  0.0  0.0  0.0  0.0  0.0  1.0"
      ]
     },
     "execution_count": 117,
     "metadata": {},
     "output_type": "execute_result"
    }
   ],
   "source": [
    "P=zeros(7,7)+I"
   ]
  },
  {
   "cell_type": "code",
   "execution_count": 118,
   "metadata": {},
   "outputs": [
    {
     "data": {
      "text/plain": [
       "7×7 Array{Float64,2}:\n",
       " 1.0  0.0  0.0  0.0  0.0  0.0  0.0\n",
       " 0.0  1.0  0.0  0.0  0.0  0.0  0.0\n",
       " 0.0  0.0  1.0  0.0  0.0  0.0  0.0\n",
       " 0.0  0.0  0.0  1.0  0.0  0.0  0.0\n",
       " 0.0  0.0  0.0  0.0  1.0  0.0  0.0\n",
       " 0.0  0.0  0.0  0.0  0.0  1.0  0.0\n",
       " 0.0  0.0  0.0  0.0  0.0  0.0  1.0"
      ]
     },
     "execution_count": 118,
     "metadata": {},
     "output_type": "execute_result"
    }
   ],
   "source": [
    "P1=copy(P)"
   ]
  },
  {
   "cell_type": "code",
   "execution_count": 119,
   "metadata": {},
   "outputs": [
    {
     "data": {
      "text/plain": [
       "7-element Array{Int64,1}:\n",
       " 7\n",
       " 2\n",
       " 3\n",
       " 4\n",
       " 5\n",
       " 6\n",
       " 1"
      ]
     },
     "execution_count": 119,
     "metadata": {},
     "output_type": "execute_result"
    }
   ],
   "source": [
    "i=[7,2,3,4,5,6,1]"
   ]
  },
  {
   "cell_type": "code",
   "execution_count": 120,
   "metadata": {},
   "outputs": [
    {
     "data": {
      "text/plain": [
       "7×7 Array{Float64,2}:\n",
       " 0.0  0.0  0.0  0.0  0.0  0.0  1.0\n",
       " 0.0  1.0  0.0  0.0  0.0  0.0  0.0\n",
       " 0.0  0.0  1.0  0.0  0.0  0.0  0.0\n",
       " 0.0  0.0  0.0  1.0  0.0  0.0  0.0\n",
       " 0.0  0.0  0.0  0.0  1.0  0.0  0.0\n",
       " 0.0  0.0  0.0  0.0  0.0  1.0  0.0\n",
       " 1.0  0.0  0.0  0.0  0.0  0.0  0.0"
      ]
     },
     "execution_count": 120,
     "metadata": {},
     "output_type": "execute_result"
    }
   ],
   "source": [
    "P1=P1[i,:]"
   ]
  },
  {
   "cell_type": "code",
   "execution_count": 121,
   "metadata": {},
   "outputs": [
    {
     "data": {
      "text/plain": [
       "7×7 Array{Float64,2}:\n",
       " 7.0  0.0  0.0  0.0  0.0  0.0  1.0\n",
       " 2.0  1.0  0.0  0.0  0.0  0.0  0.0\n",
       " 3.0  0.0  1.0  0.0  0.0  0.0  0.0\n",
       " 4.0  0.0  0.0  1.0  0.0  0.0  0.0\n",
       " 5.0  0.0  0.0  0.0  1.0  0.0  0.0\n",
       " 6.0  0.0  0.0  0.0  0.0  1.0  0.0\n",
       " 1.0  2.0  3.0  4.0  5.0  6.0  7.0"
      ]
     },
     "execution_count": 121,
     "metadata": {},
     "output_type": "execute_result"
    }
   ],
   "source": [
    "P1*A"
   ]
  },
  {
   "cell_type": "code",
   "execution_count": 122,
   "metadata": {},
   "outputs": [
    {
     "data": {
      "text/plain": [
       "7×7 Array{Float64,2}:\n",
       " 1.0  0.0  0.0  0.0  0.0  0.0  0.0\n",
       " 0.0  1.0  0.0  0.0  0.0  0.0  0.0\n",
       " 0.0  0.0  1.0  0.0  0.0  0.0  0.0\n",
       " 0.0  0.0  0.0  1.0  0.0  0.0  0.0\n",
       " 0.0  0.0  0.0  0.0  1.0  0.0  0.0\n",
       " 0.0  0.0  0.0  0.0  0.0  1.0  0.0\n",
       " 0.0  0.0  0.0  0.0  0.0  0.0  1.0"
      ]
     },
     "execution_count": 122,
     "metadata": {},
     "output_type": "execute_result"
    }
   ],
   "source": [
    "M1=copy(P)"
   ]
  },
  {
   "cell_type": "code",
   "execution_count": 123,
   "metadata": {},
   "outputs": [
    {
     "data": {
      "text/plain": [
       "6//1"
      ]
     },
     "execution_count": 123,
     "metadata": {},
     "output_type": "execute_result"
    }
   ],
   "source": [
    "(1+5)*1//1"
   ]
  },
  {
   "cell_type": "code",
   "execution_count": 124,
   "metadata": {},
   "outputs": [
    {
     "data": {
      "text/plain": [
       "6-element Array{Float64,1}:\n",
       " 2.0\n",
       " 3.0\n",
       " 4.0\n",
       " 5.0\n",
       " 6.0\n",
       " 1.0"
      ]
     },
     "execution_count": 124,
     "metadata": {},
     "output_type": "execute_result"
    }
   ],
   "source": [
    "(P1*A)[2:7,1]"
   ]
  },
  {
   "cell_type": "code",
   "execution_count": 125,
   "metadata": {},
   "outputs": [
    {
     "data": {
      "text/plain": [
       "6-element Array{Float64,1}:\n",
       " -0.2857142857142857 \n",
       " -0.42857142857142855\n",
       " -0.5714285714285714 \n",
       " -0.7142857142857143 \n",
       " -0.8571428571428571 \n",
       " -0.14285714285714285"
      ]
     },
     "execution_count": 125,
     "metadata": {},
     "output_type": "execute_result"
    }
   ],
   "source": [
    "M1[2:7,1]=-(1//1)*(P1*A)[2:7,1] / (P1*A)[1,1]\n"
   ]
  },
  {
   "cell_type": "code",
   "execution_count": 126,
   "metadata": {},
   "outputs": [
    {
     "data": {
      "text/plain": [
       "7×7 Array{Float64,2}:\n",
       " 7.0  0.0  0.0  0.0  0.0  0.0   1.0     \n",
       " 0.0  1.0  0.0  0.0  0.0  0.0  -0.285714\n",
       " 0.0  0.0  1.0  0.0  0.0  0.0  -0.428571\n",
       " 0.0  0.0  0.0  1.0  0.0  0.0  -0.571429\n",
       " 0.0  0.0  0.0  0.0  1.0  0.0  -0.714286\n",
       " 0.0  0.0  0.0  0.0  0.0  1.0  -0.857143\n",
       " 0.0  2.0  3.0  4.0  5.0  6.0   6.85714 "
      ]
     },
     "execution_count": 126,
     "metadata": {},
     "output_type": "execute_result"
    }
   ],
   "source": [
    "M1*P1*A"
   ]
  },
  {
   "cell_type": "code",
   "execution_count": 127,
   "metadata": {},
   "outputs": [
    {
     "data": {
      "text/plain": [
       "7×7 Array{Float64,2}:\n",
       " 1.0  0.0  0.0  0.0  0.0  0.0  0.0\n",
       " 0.0  1.0  0.0  0.0  0.0  0.0  0.0\n",
       " 0.0  0.0  1.0  0.0  0.0  0.0  0.0\n",
       " 0.0  0.0  0.0  1.0  0.0  0.0  0.0\n",
       " 0.0  0.0  0.0  0.0  1.0  0.0  0.0\n",
       " 0.0  0.0  0.0  0.0  0.0  1.0  0.0\n",
       " 0.0  0.0  0.0  0.0  0.0  0.0  1.0"
      ]
     },
     "execution_count": 127,
     "metadata": {},
     "output_type": "execute_result"
    }
   ],
   "source": [
    "M2=copy(P)"
   ]
  },
  {
   "cell_type": "code",
   "execution_count": 128,
   "metadata": {},
   "outputs": [
    {
     "data": {
      "text/plain": [
       "5-element Array{Float64,1}:\n",
       " 0.0\n",
       " 0.0\n",
       " 0.0\n",
       " 0.0\n",
       " 2.0"
      ]
     },
     "execution_count": 128,
     "metadata": {},
     "output_type": "execute_result"
    }
   ],
   "source": [
    "(M1*P1*A)[3:7,2]"
   ]
  },
  {
   "cell_type": "code",
   "execution_count": 129,
   "metadata": {},
   "outputs": [
    {
     "data": {
      "text/plain": [
       "7×7 Array{Float64,2}:\n",
       " 1.0   0.0  0.0  0.0  0.0  0.0  0.0\n",
       " 0.0   1.0  0.0  0.0  0.0  0.0  0.0\n",
       " 0.0  -0.0  1.0  0.0  0.0  0.0  0.0\n",
       " 0.0  -0.0  0.0  1.0  0.0  0.0  0.0\n",
       " 0.0  -0.0  0.0  0.0  1.0  0.0  0.0\n",
       " 0.0  -0.0  0.0  0.0  0.0  1.0  0.0\n",
       " 0.0  -2.0  0.0  0.0  0.0  0.0  1.0"
      ]
     },
     "execution_count": 129,
     "metadata": {},
     "output_type": "execute_result"
    }
   ],
   "source": [
    "M2[3:7,2]=-(M1*P1*A)[3:7,2] / (M1*P1*A)[2,2]\n",
    "M2"
   ]
  },
  {
   "cell_type": "code",
   "execution_count": 130,
   "metadata": {},
   "outputs": [
    {
     "data": {
      "text/plain": [
       "7×7 Array{Float64,2}:\n",
       " 7.0  0.0  0.0  0.0  0.0  0.0   1.0     \n",
       " 0.0  1.0  0.0  0.0  0.0  0.0  -0.285714\n",
       " 0.0  0.0  1.0  0.0  0.0  0.0  -0.428571\n",
       " 0.0  0.0  0.0  1.0  0.0  0.0  -0.571429\n",
       " 0.0  0.0  0.0  0.0  1.0  0.0  -0.714286\n",
       " 0.0  0.0  0.0  0.0  0.0  1.0  -0.857143\n",
       " 0.0  0.0  3.0  4.0  5.0  6.0   7.42857 "
      ]
     },
     "execution_count": 130,
     "metadata": {},
     "output_type": "execute_result"
    }
   ],
   "source": [
    "M2*M1*P1*A"
   ]
  },
  {
   "cell_type": "code",
   "execution_count": 131,
   "metadata": {},
   "outputs": [
    {
     "data": {
      "text/plain": [
       "7×7 Array{Float64,2}:\n",
       " 7.0  0.0  0.0  0.0  0.0  0.0   1.0     \n",
       " 0.0  1.0  0.0  0.0  0.0  0.0  -0.285714\n",
       " 0.0  0.0  1.0  0.0  0.0  0.0  -0.428571\n",
       " 0.0  0.0  0.0  1.0  0.0  0.0  -0.571429\n",
       " 0.0  0.0  0.0  0.0  1.0  0.0  -0.714286\n",
       " 0.0  0.0  0.0  0.0  0.0  1.0  -0.857143\n",
       " 0.0  0.0  0.0  4.0  5.0  6.0   8.71429 "
      ]
     },
     "execution_count": 131,
     "metadata": {},
     "output_type": "execute_result"
    }
   ],
   "source": [
    "M3=copy(P)\n",
    "M3[4:7,3]=-(M2*M1*P1*A)[4:7,3] / (M2*M1*P1*A)[3,3]\n",
    "M3*M2*M1*P1*A"
   ]
  },
  {
   "cell_type": "code",
   "execution_count": 132,
   "metadata": {},
   "outputs": [
    {
     "data": {
      "text/plain": [
       "7×7 Array{Float64,2}:\n",
       "  7.0          0.0  0.0  0.0  0.0  0.0   1.0     \n",
       "  0.0          1.0  0.0  0.0  0.0  0.0  -0.285714\n",
       "  0.0          0.0  1.0  0.0  0.0  0.0  -0.428571\n",
       "  0.0          0.0  0.0  1.0  0.0  0.0  -0.571429\n",
       "  0.0          0.0  0.0  0.0  1.0  0.0  -0.714286\n",
       "  0.0          0.0  0.0  0.0  0.0  1.0  -0.857143\n",
       " -3.55271e-15  0.0  0.0  0.0  5.0  6.0  11.0     "
      ]
     },
     "execution_count": 132,
     "metadata": {},
     "output_type": "execute_result"
    }
   ],
   "source": [
    "M4=copy(P)\n",
    "M4[5:7,4]=-(M3*M2*M1*P1*A)[5:7,4] / (M3*M2*M1*P1*A)[4,4]\n",
    "M4*M3*M2*M1*P1*A"
   ]
  },
  {
   "cell_type": "code",
   "execution_count": 133,
   "metadata": {},
   "outputs": [
    {
     "data": {
      "text/plain": [
       "7×7 Array{Float64,2}:\n",
       "  7.0          0.0  0.0  0.0  0.0  0.0   1.0     \n",
       "  0.0          1.0  0.0  0.0  0.0  0.0  -0.285714\n",
       "  0.0          0.0  1.0  0.0  0.0  0.0  -0.428571\n",
       "  0.0          0.0  0.0  1.0  0.0  0.0  -0.571429\n",
       "  0.0          0.0  0.0  0.0  1.0  0.0  -0.714286\n",
       "  0.0          0.0  0.0  0.0  0.0  1.0  -0.857143\n",
       " -7.10543e-15  0.0  0.0  0.0  0.0  6.0  14.5714  "
      ]
     },
     "execution_count": 133,
     "metadata": {},
     "output_type": "execute_result"
    }
   ],
   "source": [
    "M5=copy(P)\n",
    "M5[6:7,5]=-(M4*M3*M2*M1*P1*A)[6:7,5] / (M4*M3*M2*M1*P1*A)[5,5]\n",
    "M5*M4*M3*M2*M1*P1*A"
   ]
  },
  {
   "cell_type": "code",
   "execution_count": 134,
   "metadata": {},
   "outputs": [
    {
     "data": {
      "text/plain": [
       "7×7 Array{Float64,2}:\n",
       " 7.0  0.0  0.0  0.0  0.0  0.0   1.0     \n",
       " 0.0  1.0  0.0  0.0  0.0  0.0  -0.285714\n",
       " 0.0  0.0  1.0  0.0  0.0  0.0  -0.428571\n",
       " 0.0  0.0  0.0  1.0  0.0  0.0  -0.571429\n",
       " 0.0  0.0  0.0  0.0  1.0  0.0  -0.714286\n",
       " 0.0  0.0  0.0  0.0  0.0  1.0  -0.857143\n",
       " 0.0  0.0  0.0  0.0  0.0  0.0  19.7143  "
      ]
     },
     "execution_count": 134,
     "metadata": {},
     "output_type": "execute_result"
    }
   ],
   "source": [
    "M6=copy(P)\n",
    "M6[7:7,6]=-(M5*M4*M3*M2*M1*P1*A)[7:7,6] / (M5*M4*M3*M2*M1*P1*A)[6,6]\n",
    "M6*M5*M4*M3*M2*M1*P1*A"
   ]
  },
  {
   "cell_type": "code",
   "execution_count": 135,
   "metadata": {},
   "outputs": [
    {
     "ename": "UndefVarError",
     "evalue": "UndefVarError: C not defined",
     "output_type": "error",
     "traceback": [
      "UndefVarError: C not defined",
      "",
      "Stacktrace:",
      " [1] top-level scope at In[135]:3"
     ]
    }
   ],
   "source": [
    "M7=copy(P)\n",
    "M7[1:6,7]=-(M6*M5*M4*M3*M2*M1*P1*A)[1:6,7] / (M6*M5*M4*M3*M2*M1*P1*A)[7,7]\n",
    "C"
   ]
  },
  {
   "cell_type": "code",
   "execution_count": 136,
   "metadata": {},
   "outputs": [
    {
     "data": {
      "text/plain": [
       "7×7 Array{Float64,2}:\n",
       " 0.142857  0.0  0.0  0.0  0.0  0.0  0.0      \n",
       " 0.0       1.0  0.0  0.0  0.0  0.0  0.0      \n",
       " 0.0       0.0  1.0  0.0  0.0  0.0  0.0      \n",
       " 0.0       0.0  0.0  1.0  0.0  0.0  0.0      \n",
       " 0.0       0.0  0.0  0.0  1.0  0.0  0.0      \n",
       " 0.0       0.0  0.0  0.0  0.0  1.0  0.0      \n",
       " 0.0       0.0  0.0  0.0  0.0  0.0  0.0507246"
      ]
     },
     "execution_count": 136,
     "metadata": {},
     "output_type": "execute_result"
    }
   ],
   "source": [
    "M8=copy(P)\n",
    "M8[1,1]=1/(M7*M6*M5*M4*M3*M2*M1*P1*A)[1,1]\n",
    "M8[7,7]=1/(M7*M6*M5*M4*M3*M2*M1*P1*A)[7,7]\n",
    "M8"
   ]
  },
  {
   "cell_type": "code",
   "execution_count": 137,
   "metadata": {},
   "outputs": [
    {
     "data": {
      "text/plain": [
       "7×7 Array{Float64,2}:\n",
       "  1.0          0.0  0.0  0.0  0.0  0.0   2.08167e-17\n",
       " -1.11022e-16  1.0  0.0  0.0  0.0  0.0  -4.16334e-17\n",
       " -4.44089e-16  0.0  1.0  0.0  0.0  0.0  -5.55112e-17\n",
       "  2.22045e-16  0.0  0.0  1.0  0.0  0.0  -2.77556e-17\n",
       "  2.22045e-16  0.0  0.0  0.0  1.0  0.0   5.55112e-17\n",
       "  4.44089e-16  0.0  0.0  0.0  0.0  1.0   5.55112e-17\n",
       "  0.0          0.0  0.0  0.0  0.0  0.0   1.0        "
      ]
     },
     "execution_count": 137,
     "metadata": {},
     "output_type": "execute_result"
    }
   ],
   "source": [
    "M8*M7*M6*M5*M4*M3*M2*M1*P1*A"
   ]
  },
  {
   "cell_type": "code",
   "execution_count": 138,
   "metadata": {},
   "outputs": [
    {
     "data": {
      "text/plain": [
       "7×7 Array{Float64,2}:\n",
       " -0.00724638   0.0144928   0.0217391  …   0.0362319   0.0434783   0.0507246\n",
       "  0.0144928    0.971014   -0.0434783     -0.0724638  -0.0869565  -0.101449 \n",
       "  0.0217391   -0.0434783   0.934783      -0.108696   -0.130435   -0.152174 \n",
       "  0.0289855   -0.057971   -0.0869565     -0.144928   -0.173913   -0.202899 \n",
       "  0.0362319   -0.0724638  -0.108696       0.818841   -0.217391   -0.253623 \n",
       "  0.0434783   -0.0869565  -0.130435   …  -0.217391    0.73913    -0.304348 \n",
       "  0.0507246   -0.101449   -0.152174      -0.253623   -0.304348    0.644928 "
      ]
     },
     "execution_count": 138,
     "metadata": {},
     "output_type": "execute_result"
    }
   ],
   "source": [
    "B=M8*M7*M6*M5*M4*M3*M2*M1*P1"
   ]
  },
  {
   "cell_type": "code",
   "execution_count": 139,
   "metadata": {},
   "outputs": [
    {
     "data": {
      "text/plain": [
       "7×7 Array{Float64,2}:\n",
       "  1.0          0.0  0.0  0.0  0.0  0.0   2.08167e-17\n",
       " -1.11022e-16  1.0  0.0  0.0  0.0  0.0  -4.16334e-17\n",
       " -4.44089e-16  0.0  1.0  0.0  0.0  0.0  -5.55112e-17\n",
       "  2.22045e-16  0.0  0.0  1.0  0.0  0.0  -2.77556e-17\n",
       "  2.22045e-16  0.0  0.0  0.0  1.0  0.0   5.55112e-17\n",
       "  4.44089e-16  0.0  0.0  0.0  0.0  1.0   5.55112e-17\n",
       "  0.0          0.0  0.0  0.0  0.0  0.0   1.0        "
      ]
     },
     "execution_count": 139,
     "metadata": {},
     "output_type": "execute_result"
    }
   ],
   "source": [
    "B*A"
   ]
  },
  {
   "cell_type": "code",
   "execution_count": 140,
   "metadata": {},
   "outputs": [
    {
     "data": {
      "text/plain": [
       "7×1 Adjoint{Int64,Array{Int64,2}}:\n",
       "  1\n",
       " -1\n",
       "  1\n",
       " -1\n",
       "  1\n",
       " -1\n",
       "  1"
      ]
     },
     "execution_count": 140,
     "metadata": {},
     "output_type": "execute_result"
    }
   ],
   "source": [
    "b=[1 -1 1 -1 1 -1 1]' "
   ]
  },
  {
   "cell_type": "code",
   "execution_count": 141,
   "metadata": {},
   "outputs": [
    {
     "data": {
      "text/plain": [
       "7×1 Array{Float64,2}:\n",
       "  0.014492753623188422\n",
       " -1.028985507246377   \n",
       "  0.9565217391304346  \n",
       " -1.0579710144927539  \n",
       "  0.9275362318840579  \n",
       " -1.0869565217391304  \n",
       "  0.898550724637681   "
      ]
     },
     "execution_count": 141,
     "metadata": {},
     "output_type": "execute_result"
    }
   ],
   "source": [
    "x=B*b"
   ]
  },
  {
   "cell_type": "code",
   "execution_count": 142,
   "metadata": {},
   "outputs": [
    {
     "data": {
      "text/plain": [
       "7×1 Array{Float64,2}:\n",
       "  0.9999999999999973\n",
       " -1.0               \n",
       "  0.9999999999999999\n",
       " -1.0000000000000002\n",
       "  1.0               \n",
       " -0.9999999999999999\n",
       "  1.0               "
      ]
     },
     "execution_count": 142,
     "metadata": {},
     "output_type": "execute_result"
    }
   ],
   "source": [
    "A*x"
   ]
  },
  {
   "cell_type": "code",
   "execution_count": null,
   "metadata": {},
   "outputs": [],
   "source": []
  },
  {
   "cell_type": "code",
   "execution_count": 143,
   "metadata": {},
   "outputs": [
    {
     "data": {
      "text/plain": [
       "7×8 Array{Int64,2}:\n",
       " 1  2  3  4  5  6  7   1\n",
       " 2  1  0  0  0  0  0  -1\n",
       " 3  0  1  0  0  0  0   1\n",
       " 4  0  0  1  0  0  0  -1\n",
       " 5  0  0  0  1  0  0   1\n",
       " 6  0  0  0  0  1  0  -1\n",
       " 7  0  0  0  0  0  1   1"
      ]
     },
     "execution_count": 143,
     "metadata": {},
     "output_type": "execute_result"
    }
   ],
   "source": [
    "AA=[1 2 3 4 5 6 7 1; 2 1 0 0 0 0 0 -1;3 0 1 0 0 0 0 1; 4 0 0 1 0 0 0 -1; 5 0 0 0 1 0 0 1; 6 0 0 0 0 1 0 -1; 7 0 0 0 0 0 1 1]"
   ]
  },
  {
   "cell_type": "code",
   "execution_count": 144,
   "metadata": {},
   "outputs": [
    {
     "data": {
      "text/plain": [
       "7×8 Array{Float64,2}:\n",
       "  1.0          0.0  0.0  0.0  0.0  0.0   2.08167e-17   0.0144928\n",
       " -1.11022e-16  1.0  0.0  0.0  0.0  0.0  -4.16334e-17  -1.02899  \n",
       " -4.44089e-16  0.0  1.0  0.0  0.0  0.0  -5.55112e-17   0.956522 \n",
       "  2.22045e-16  0.0  0.0  1.0  0.0  0.0  -2.77556e-17  -1.05797  \n",
       "  2.22045e-16  0.0  0.0  0.0  1.0  0.0   5.55112e-17   0.927536 \n",
       "  4.44089e-16  0.0  0.0  0.0  0.0  1.0   5.55112e-17  -1.08696  \n",
       "  0.0          0.0  0.0  0.0  0.0  0.0   1.0           0.898551 "
      ]
     },
     "execution_count": 144,
     "metadata": {},
     "output_type": "execute_result"
    }
   ],
   "source": [
    "M8*M7*M6*M5*M4*M3*M2*M1*P1*AA"
   ]
  },
  {
   "cell_type": "code",
   "execution_count": null,
   "metadata": {},
   "outputs": [],
   "source": []
  }
 ],
 "metadata": {
  "kernelspec": {
   "display_name": "Julia 1.0.3",
   "language": "julia",
   "name": "julia-1.0"
  },
  "language_info": {
   "file_extension": ".jl",
   "mimetype": "application/julia",
   "name": "julia",
   "version": "1.0.3"
  }
 },
 "nbformat": 4,
 "nbformat_minor": 2
}
