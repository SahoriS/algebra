{
 "cells": [
  {
   "cell_type": "markdown",
   "metadata": {
    "collapsed": false
   },
   "source": [
    "# \"Los métodos tradicionales para la construcción de cuadrados mágicos con enteros consecutivos\""
   ]
  },
  {
   "cell_type": "markdown",
   "metadata": {
    "collapsed": false
   },
   "source": [
    "Álgebra Lineal Grupo 4123 2020-I \n",
    "\n",
    "- Sahori Abigail Solana Gómez"
   ]
  },
  {
   "cell_type": "markdown",
   "metadata": {
    "collapsed": false
   },
   "source": [
    "Los cuadrados mágicos son arreglos numéricos de enteros dispuestos de forma tal que cada fila, columna y diagonal principal sume lo mismo. \"Los cuadrados mágicos exiten desde hace miles de años. En la antigua china y en otras civilizaciones del pasado se creía que poseían poderes místicos\" (Brandreth, 1990, p.63).\n",
    "\n",
    "En el presente texto se habla únicamente de aquellos cuadrados que están formados por enteros consecutivos y las formas en que éstos se construyen."
   ]
  },
  {
   "cell_type": "markdown",
   "metadata": {
    "collapsed": false
   },
   "source": [
    "De acuerdo con Mercè Comes y Rosa Comes (2008), se puede clasificar a los cuadrados mágicos según su número de filas (n) en tres grandes grupos:\n",
    " \n",
    "* Impares: n es impar (3,5,7,9,...)\n",
    "\n",
    "\n",
    "* Parmente pares: n es múltiplo de cuatro (4,8,12,16,...)\n",
    "\n",
    "\n",
    "* Imparmente pares: n es par pero no es múltipo de cuatro (6,10,14,18,...)"
   ]
  },
  {
   "cell_type": "markdown",
   "metadata": {
    "collapsed": false
   },
   "source": [
    "### Método siamés"
   ]
  },
  {
   "cell_type": "markdown",
   "metadata": {
    "collapsed": false
   },
   "source": [
    "\"La forma más conocida para construir cuadrados mágicos de orden impar es usando el método publicado en 1691 por\n",
    "Simon de la Loubere, llamado a veces método Siamés\" (Velázquez L, ) consiste en lo siguiente:\n",
    "\n",
    "1. Iniciar escribiendo el primer número en alguna casilla central del borde y tomar una diagonal en una dirección que nos dirija hacia el exterior del cuadrado, en este caso, a modo de ejemplo, elegiré la diagonal hacia el inferior a la derecha."
   ]
  },
  {
   "cell_type": "markdown",
   "metadata": {
    "collapsed": false
   },
   "source": [
    "$\\begin{array}{|c|c|c|c|c|}\n",
    "\\hline \\ \\ \\ &\\ \\ \\ &\\ \\ \\ &\\ \\ \\ &\\ \\ \\ \\\\  \n",
    "\\hline \\ \\ \\ &\\ \\ \\ &\\ \\ \\ &\\ \\ \\ &\\ \\ \\ \\\\ \n",
    "\\hline \\ \\ \\ &\\ \\ \\ &\\ \\ \\ &\\ \\ \\ &\\ \\ 1\\ \\\\ \n",
    "\\hline \\ \\ \\ &\\ \\ \\ &\\ \\ \\ &\\ \\ \\ &\\ \\ \\ \\\\ \n",
    "\\hline \\ \\ \\ &\\ \\ \\ &\\ \\ \\ &\\ \\ \\ &\\ \\ \\ \\\\ \n",
    "\\hline \\end{array}$"
   ]
  },
  {
   "cell_type": "markdown",
   "metadata": {
    "collapsed": false
   },
   "source": [
    "  2. A partir de ahí escribir los números sucesores en la dirección elegida completando la correspondiente diagonal."
   ]
  },
  {
   "cell_type": "markdown",
   "metadata": {
    "collapsed": false
   },
   "source": [
    "$\\begin{array}{|c|c|c|c|c|}\n",
    "\\hline \\ \\ \\ &\\ \\ \\ &\\ \\ 4\\ &\\ \\ \\ &\\ \\ \\ \\\\  \n",
    "\\hline \\ \\ \\ &\\ \\ \\ &\\ \\ \\ &\\ \\ 5\\ &\\ \\ \\ \\\\ \n",
    "\\hline \\ \\ \\ &\\ \\ \\ &\\ \\ \\ &\\ \\ \\ &\\ \\ 1\\ \\\\ \n",
    "\\hline \\ \\ 2\\ &\\ \\ \\ &\\ \\ \\ &\\ \\ \\ &\\ \\ \\ \\\\ \n",
    "\\hline \\ \\ \\ &\\ \\ 3\\ &\\ \\ \\ &\\ \\ \\ &\\ \\ \\ \\\\ \n",
    "\\hline \\end{array}$"
   ]
  },
  {
   "cell_type": "markdown",
   "metadata": {
    "collapsed": false
   },
   "source": [
    "3. Para tomar la siguiente diagonal, a rellenar, se avanza en dirección opuesta al borde desde el que se inició."
   ]
  },
  {
   "cell_type": "markdown",
   "metadata": {
    "collapsed": false
   },
   "source": [
    "$\\begin{array}{|c|c|c|c|c|}\n",
    "\\hline \\ \\ \\ &\\ \\ \\ &\\ \\ 4\\ &\\ \\ \\ &\\ \\ \\ \\\\  \n",
    "\\hline \\ \\ \\ &\\ \\ \\ &\\ \\ 6\\ &\\ \\ 5\\ &\\ \\ \\ \\\\ \n",
    "\\hline \\ \\ \\ &\\ \\ \\ &\\ \\ \\ &\\ \\ \\ &\\ \\ 1\\ \\\\ \n",
    "\\hline \\ \\ 2\\ &\\ \\ \\ &\\ \\ \\ &\\ \\ \\ &\\ \\ \\ \\\\ \n",
    "\\hline \\ \\ \\ &\\ \\ 3\\ &\\ \\ \\ &\\ \\ \\ &\\ \\ \\ \\\\ \n",
    "\\hline \\end{array}$"
   ]
  },
  {
   "cell_type": "markdown",
   "metadata": {
    "collapsed": false
   },
   "source": [
    "4. Finalmente se repiten los pasos 2. y 3. hasta completar el cuadrado."
   ]
  },
  {
   "cell_type": "markdown",
   "metadata": {
    "collapsed": false
   },
   "source": [
    "$\\begin{array}{|c|c|c|c|c|}\n",
    "\\hline \\ \\ 11\\ &\\ \\ 10\\ &\\ \\ 4\\ &\\ \\ 23\\ &\\ \\ 17\\ \\\\  \n",
    "\\hline \\ \\ 18\\ &\\ \\ 12\\ &\\ \\ 6\\ &\\ \\ 5\\ &\\ \\ 24\\ \\\\ \n",
    "\\hline \\ \\ 25\\ &\\ \\ 19\\ &\\ \\ 13\\ &\\ \\ 7\\ &\\ \\ 1\\ \\\\ \n",
    "\\hline \\ \\ 2\\ &\\ \\ 21\\ &\\ \\ 20\\ &\\ \\ 14\\ &\\ \\ 8\\ \\\\ \n",
    "\\hline \\ \\ 9\\ &\\ \\ 3\\ &\\ \\ 22\\ &\\ \\ 16\\ &\\ \\ 15\\ \\\\ \n",
    "\\hline \\end{array}$"
   ]
  },
  {
   "cell_type": "markdown",
   "metadata": {
    "collapsed": false
   },
   "source": [
    "### Método del rombo"
   ]
  },
  {
   "cell_type": "markdown",
   "metadata": {
    "collapsed": false
   },
   "source": [
    "Otra forma de construir cuadrados mágicos impares es como lo explica Fernández Justo y se trata de lo siguiente:"
   ]
  },
  {
   "cell_type": "markdown",
   "metadata": {
    "collapsed": false
   },
   "source": [
    "1. Trazar el cuadrdado deseado y construir un  triángulo sobre cada uno de sus lados con la finalidad de obtener un rombo."
   ]
  },
  {
   "cell_type": "markdown",
   "metadata": {
    "collapsed": false
   },
   "source": [
    "$\\begin{array}{|c|c|c|c|c|c|c|c|c|}\n",
    "\\hline \\ \\ \\ &\\ \\ \\ &\\ \\ \\ &\\ \\ \\ &\\ \\ \\ &\\ \\ \\ &\\ \\ \\ &\\ \\ \\ &\\ \\ \\ \\\\  \n",
    "\\hline \\ \\ \\ &\\ \\ \\ &\\ \\ \\ &\\ \\ \\ &\\ \\ \\ &\\ \\ \\ &\\ \\ \\ &\\ \\ \\ &\\ \\ \\ \\\\ \n",
    "\\hline \\ \\ \\ &\\ \\ \\ &\\ \\ \\ &\\ \\ \\ &\\ \\ \\ &\\ \\ \\ &\\ \\ \\ &\\ \\ \\ &\\ \\ \\ \\\\ \n",
    "\\hline \\ \\ \\ &\\ \\ \\ &\\ \\ \\ &\\ \\ \\ &\\ \\ \\ &\\ \\ \\ &\\ \\ \\ &\\ \\ \\ &\\ \\ \\ \\\\ \n",
    "\\hline \\ \\ \\ &\\ \\ \\ &\\ \\ \\ &\\ \\ \\ &\\ \\ \\ &\\ \\ \\ &\\ \\ \\ &\\ \\ \\ &\\ \\ \\ \\\\ \n",
    "\\hline \\ \\ \\ &\\ \\ \\ &\\ \\ \\ &\\ \\ \\ &\\ \\ \\ &\\ \\ \\ &\\ \\ \\ &\\ \\ \\ &\\ \\ \\ \\\\ \n",
    "\\hline \\ \\ \\ &\\ \\ \\ &\\ \\ \\ &\\ \\ \\ &\\ \\ \\ &\\ \\ \\ &\\ \\ \\ &\\ \\ \\ &\\ \\ \\ \\\\ \n",
    "\\hline \\ \\ \\ &\\ \\ \\ &\\ \\ \\ &\\ \\ \\ &\\ \\ \\ &\\ \\ \\ &\\ \\ \\ &\\ \\ \\ &\\ \\ \\ \\\\ \n",
    "\\hline \\ \\ \\ &\\ \\ \\ &\\ \\ \\ &\\ \\ \\ &\\ \\ \\ &\\ \\ \\ &\\ \\ \\ &\\ \\ \\ &\\ \\ \\ \\\\ \n",
    "\\hline \\end{array}$"
   ]
  },
  {
   "cell_type": "markdown",
   "metadata": {
    "collapsed": false
   },
   "source": [
    "2. Escribir los números a utilizar iniciando desde alguna esquina del rombo y rellenando las diagonales alternadas siempre en el mismo sentido."
   ]
  },
  {
   "cell_type": "markdown",
   "metadata": {
    "collapsed": false
   },
   "source": [
    "$\\begin{array}{|c|c|c|c|c|c|c|c|c|}\n",
    "\\hline \\ \\ \\ &\\ \\ \\ &\\ \\ \\ &\\ \\ \\ &\\ \\ 5\\ &\\ \\ \\ &\\ \\ \\ &\\ \\ \\ &\\ \\ \\ \\\\  \n",
    "\\hline \\ \\ \\ &\\ \\ \\ &\\ \\ \\ &\\ \\ 4\\ &\\ \\ \\ &\\ \\ 10\\ &\\ \\ \\ &\\ \\ \\ &\\ \\ \\ \\\\ \n",
    "\\hline \\ \\ \\ &\\ \\ \\ &\\ \\ 3\\ &\\ \\ \\ &\\ \\ 9\\ &\\ \\ \\ &\\ \\ 15\\ &\\ \\ \\ &\\ \\ \\ \\\\ \n",
    "\\hline \\ \\ \\ &\\ \\ 2\\ &\\ \\ \\ &\\ \\ 8\\ &\\ \\ \\ &\\ \\ 14\\ &\\ \\ \\ &\\ \\ 20\\ &\\ \\ \\ \\\\ \n",
    "\\hline \\ \\ 1\\ &\\ \\ \\ &\\ \\ 7\\ &\\ \\ \\ &\\ \\ 13\\ &\\ \\ \\ &\\ \\ 19\\ &\\ \\ \\ &\\ \\ 25\\ \\\\ \n",
    "\\hline \\ \\ \\ &\\ \\ 6\\ &\\ \\ \\ &\\ \\ 12\\ &\\ \\ \\ &\\ \\ 18\\ &\\ \\ \\ &\\ \\ 24\\ &\\ \\ \\ \\\\ \n",
    "\\hline \\ \\ \\ &\\ \\ \\ &\\ \\ 11\\ &\\ \\ \\ &\\ \\ 17\\ &\\ \\ \\ &\\ \\ 23\\ &\\ \\ \\ &\\ \\ \\ \\\\ \n",
    "\\hline \\ \\ \\ &\\ \\ \\ &\\ \\ \\ &\\ \\ 16\\ &\\ \\ \\ &\\ \\ 22\\ &\\ \\ \\ &\\ \\ \\ &\\ \\ \\ \\\\ \n",
    "\\hline \\ \\ \\ &\\ \\ \\ &\\ \\ \\ &\\ \\ \\ &\\ \\ 21\\ &\\ \\ \\ &\\ \\ \\ &\\ \\ \\ &\\ \\ \\ \\\\ \n",
    "\\hline \\end{array}$"
   ]
  },
  {
   "cell_type": "markdown",
   "metadata": {
    "collapsed": false
   },
   "source": [
    "3. Ahora, en los espacios en blanco alrededor del centro, escribimos los números de las esquinas que están en el borde opuesto, es decir, la esquina superior la escribimos en el cuadro inferior, la esquina derecha la escribimos en el cuadro izquierdo, etc."
   ]
  },
  {
   "cell_type": "markdown",
   "metadata": {
    "collapsed": false
   },
   "source": [
    "$\\begin{array}{|c|c|c|c|c|c|c|}\n",
    "\\hline \\ \\ \\ &\\ \\ \\ &\\ \\ 4\\ &\\ \\ \\ &\\ \\ 10\\ &\\ \\ \\ &\\ \\ \\ \\\\ \n",
    "\\hline \\ \\ \\ &\\ \\ 3\\ &\\ \\ \\ &\\ \\ 9\\ &\\ \\ \\ &\\ \\ 15\\ &\\ \\ \\ \\\\ \n",
    "\\hline \\ \\ 2\\ &\\ \\ \\ &\\ \\ 8\\ &\\ \\ 21\\ &\\ \\ 14\\ &\\ \\ \\ &\\ \\ 20\\ \\\\ \n",
    "\\hline \\ \\ \\ &\\ \\ 7\\ &\\ \\ 25\\ &\\ \\ 13\\ &\\ \\ 1\\ &\\ \\ 19\\ &\\ \\ \\ \\\\ \n",
    "\\hline \\ \\ 6\\ &\\ \\ \\ &\\ \\ 12\\ &\\ \\ 5\\ &\\ \\ 18\\ &\\ \\ \\ &\\ \\ 24\\ \\\\ \n",
    "\\hline \\ \\ \\ &\\ \\ 11\\ &\\ \\ \\ &\\ \\ 17\\ &\\ \\ \\ &\\ \\ 23\\ &\\ \\ \\ \\\\ \n",
    "\\hline \\ \\ \\ &\\ \\ \\ &\\ \\ 16\\ &\\ \\ \\ &\\ \\ 22\\ &\\ \\ \\ &\\ \\ \\ \\\\ \n",
    "\\hline \\end{array}$"
   ]
  },
  {
   "cell_type": "markdown",
   "metadata": {
    "collapsed": false
   },
   "source": [
    "4. Repetimos el paso 3. con las siguientes filas y columnas: tomamos la fila de la orilla y la escribimos en la fila opuesta más proxima al centro, tomamos la columna d la orilla y la escribimos en la columna opuesta más próxima al centro."
   ]
  },
  {
   "cell_type": "markdown",
   "metadata": {
    "collapsed": false
   },
   "source": [
    "$\\begin{array}{|c|c|c|c|c|c|c|}\n",
    "\\hline \\ \\ \\ &\\ \\ 3\\ &\\ \\ 16\\ &\\ \\ 9\\ &\\ \\ 22\\ &\\ \\ 15\\ &\\ \\ \\ \\\\ \n",
    "\\hline \\ \\ 2\\ &\\ \\ \\ &\\ \\ 8\\ &\\ \\ 21\\ &\\ \\ 14\\ &\\ \\ \\ &\\ \\ 20\\ \\\\ \n",
    "\\hline \\ \\ \\ &\\ \\ 7\\ &\\ \\ 25\\ &\\ \\ 13\\ &\\ \\ 1\\ &\\ \\ 19\\ &\\ \\ \\ \\\\ \n",
    "\\hline \\ \\ 6\\ &\\ \\ \\ &\\ \\ 12\\ &\\ \\ 5\\ &\\ \\ 18\\ &\\ \\ \\ &\\ \\ 24\\ \\\\ \n",
    "\\hline \\ \\ \\ &\\ \\ 11\\ &\\ \\ 4\\ &\\ \\ 17\\ &\\ \\ 10\\ &\\ \\ 23\\ &\\ \\ \\ \\\\ \n",
    "\\hline \\end{array}$\n",
    "$\\begin{array}{|c|c|c|c|c|c|c|}\n",
    "\\hline \\ \\ 3\\ &\\ \\ 16\\ &\\ \\ 9\\ &\\ \\ 22\\ &\\ \\ 15\\ \\\\ \n",
    "\\hline \\ \\ 20\\ &\\ \\ 8\\ &\\ \\ 21\\ &\\ \\ 14\\ &\\ \\ 2\\ \\\\ \n",
    "\\hline \\ \\ 7\\ &\\ \\ 25\\ &\\ \\ 13\\ &\\ \\ 1\\ &\\ \\ 19\\ \\\\ \n",
    "\\hline \\ \\ 24\\ &\\ \\ 12\\ &\\ \\ 5\\ &\\ \\ 18\\ &\\ \\ 6\\ \\\\ \n",
    "\\hline \\ \\ 11\\ &\\ \\ 4\\ &\\ \\ 17\\ &\\ \\ 10\\ &\\ \\ 23\\ \\\\ \n",
    "\\hline \\end{array}$"
   ]
  },
  {
   "cell_type": "markdown",
   "metadata": {
    "collapsed": false
   },
   "source": [
    "### Método cuadrado"
   ]
  },
  {
   "cell_type": "markdown",
   "metadata": {
    "collapsed": false
   },
   "source": [
    "Éste método se utiliza para cuadrados mágicos parmente pares.\n",
    "\n",
    "1. Se escriben todos los números en orden consecutivo iniciando en la esquina superior izquierda."
   ]
  },
  {
   "cell_type": "markdown",
   "metadata": {
    "collapsed": false
   },
   "source": [
    "$\\begin{array}{|c|c|c|c|c|c|c|c|}\n",
    "\\hline \\ \\ 1\\ &\\ \\ 2\\ &\\ \\ 3\\ &\\ \\ 4\\ &\\ \\ 5\\ &\\ \\ 6\\ &\\ \\ 7\\ &\\ \\ 8\\ \\\\  \n",
    "\\hline \\ \\ 9\\ &\\ \\ 10\\ &\\ \\ 11\\ &\\ \\ 12\\ &\\ \\ 13\\ &\\ \\ 14\\ &\\ \\ 15\\ &\\ \\ 16\\ \\\\ \n",
    "\\hline \\ \\ 17\\ &\\ \\ 18\\ &\\ \\ 19\\ &\\ \\ 20\\ &\\ \\ 21\\ &\\ \\ 22\\ &\\ \\ 23\\ &\\ \\ 24\\ \\\\ \n",
    "\\hline \\ \\ 25\\ &\\ \\ 26\\ &\\ \\ 27\\ &\\ \\ 28\\ &\\ \\ 29\\ &\\ \\ 30\\ &\\ \\ 31\\ &\\ \\ 32\\ \\\\ \n",
    "\\hline \\ \\ 33\\ &\\ \\ 34\\ &\\ \\ 35\\ &\\ \\ 36\\ &\\ \\ 37\\ &\\ \\ 38\\ &\\ \\ 39\\ &\\ \\ 40\\ \\\\ \n",
    "\\hline \\ \\ 41\\ &\\ \\ 42\\ &\\ \\ 43\\ &\\ \\ 44\\ &\\ \\ 45\\ &\\ \\ 46\\ &\\ \\ 47\\ &\\ \\ 48\\ \\\\ \n",
    "\\hline \\ \\ 49\\ &\\ \\ 50\\ &\\ \\ 51\\ &\\ \\ 52\\ &\\ \\ 53\\ &\\ \\ 54\\ &\\ \\ 55\\ &\\ \\ 56\\ \\\\ \n",
    "\\hline \\ \\ 57\\ &\\ \\ 58\\ &\\ \\ 59\\ &\\ \\ 60\\ &\\ \\ 61\\ &\\ \\ 62\\ &\\ \\ 63\\ &\\ \\ 64\\ \\\\ \n",
    "\\hline \\end{array}$"
   ]
  },
  {
   "cell_type": "markdown",
   "metadata": {
    "collapsed": false
   },
   "source": [
    "2. El cuadrado del centro de lado $\\frac{n}{2}$ y los cuadrados de las esquinas de lado $\\frac{n}{4}$ se quedan fijos, mientras que para el resto, los rectángulos superior e inferior se reacomoda cada fila en orden descendente, y los rectángulos derecho e izquierdo se reacomoda cada columna en orden descendente."
   ]
  },
  {
   "cell_type": "markdown",
   "metadata": {
    "collapsed": false
   },
   "source": [
    "$\\begin{array}{|c|c|c|c|c|c|c|c|}\n",
    "\\hline \\ \\ 1\\ &\\ \\ 2\\ &\\ \\ 6\\ &\\ \\ 5\\ &\\ \\ 4\\ &\\ \\ 3\\ &\\ \\ 7\\ &\\ \\ 8\\ \\\\  \n",
    "\\hline \\ \\ 9\\ &\\ \\ 10\\ &\\ \\ 14\\ &\\ \\ 13\\ &\\ \\ 12\\ &\\ \\ 11\\ &\\ \\ 15\\ &\\ \\ 16\\ \\\\ \n",
    "\\hline \\ \\ 41\\ &\\ \\ 42\\ &\\ \\ 19\\ &\\ \\ 20\\ &\\ \\ 21\\ &\\ \\ 22\\ &\\ \\ 47\\ &\\ \\ 48\\ \\\\ \n",
    "\\hline \\ \\ 33\\ &\\ \\ 34\\ &\\ \\ 27\\ &\\ \\ 28\\ &\\ \\ 29\\ &\\ \\ 30\\ &\\ \\ 39\\ &\\ \\ 40\\ \\\\ \n",
    "\\hline \\ \\ 25\\ &\\ \\ 26\\ &\\ \\ 35\\ &\\ \\ 36\\ &\\ \\ 37\\ &\\ \\ 38\\ &\\ \\ 31\\ &\\ \\ 32\\ \\\\ \n",
    "\\hline \\ \\ 17\\ &\\ \\ 18\\ &\\ \\ 43\\ &\\ \\ 44\\ &\\ \\ 45\\ &\\ \\ 46\\ &\\ \\ 23\\ &\\ \\ 24\\ \\\\ \n",
    "\\hline \\ \\ 49\\ &\\ \\ 50\\ &\\ \\ 54\\ &\\ \\ 53\\ &\\ \\ 52\\ &\\ \\ 51\\ &\\ \\ 55\\ &\\ \\ 56\\ \\\\ \n",
    "\\hline \\ \\ 57\\ &\\ \\ 58\\ &\\ \\ 62\\ &\\ \\ 61\\ &\\ \\ 60\\ &\\ \\ 59\\ &\\ \\ 63\\ &\\ \\ 64\\ \\\\ \n",
    "\\hline \\end{array}$"
   ]
  },
  {
   "cell_type": "markdown",
   "metadata": {
    "collapsed": false
   },
   "source": [
    "3. Por último, dejando fijos los mismos cuadrados que en el paso anterior, intercambiamos las filas de la orilla entre los rectángulos superior e inferior y las columnas de la orilla entre los rectángulos laterales, repetimos el procedimiento hasta llegar al centro."
   ]
  },
  {
   "cell_type": "markdown",
   "metadata": {
    "collapsed": false
   },
   "source": [
    "$\\begin{array}{|c|c|c|c|c|c|c|c|}\n",
    "\\hline \\ \\ 1\\ &\\ \\ 2\\ &\\ \\ 62\\ &\\ \\ 61\\ &\\ \\ 60\\ &\\ \\ 59\\ &\\ \\ 7\\ &\\ \\ 8\\ \\\\  \n",
    "\\hline \\ \\ 9\\ &\\ \\ 10\\ &\\ \\ 54\\ &\\ \\ 53\\ &\\ \\ 52\\ &\\ \\ 51\\ &\\ \\ 15\\ &\\ \\ 16\\ \\\\ \n",
    "\\hline \\ \\ 48\\ &\\ \\ 47\\ &\\ \\ 19\\ &\\ \\ 20\\ &\\ \\ 21\\ &\\ \\ 22\\ &\\ \\ 42\\ &\\ \\ 41\\ \\\\ \n",
    "\\hline \\ \\ 40\\ &\\ \\ 39\\ &\\ \\ 27\\ &\\ \\ 28\\ &\\ \\ 29\\ &\\ \\ 30\\ &\\ \\ 34\\ &\\ \\ 33\\ \\\\ \n",
    "\\hline \\ \\ 32\\ &\\ \\ 31\\ &\\ \\ 35\\ &\\ \\ 36\\ &\\ \\ 37\\ &\\ \\ 38\\ &\\ \\ 26\\ &\\ \\ 25\\ \\\\ \n",
    "\\hline \\ \\ 24\\ &\\ \\ 23\\ &\\ \\ 43\\ &\\ \\ 44\\ &\\ \\ 45\\ &\\ \\ 46\\ &\\ \\ 18\\ &\\ \\ 17\\ \\\\ \n",
    "\\hline \\ \\ 49\\ &\\ \\ 50\\ &\\ \\ 14\\ &\\ \\ 13\\ &\\ \\ 12\\ &\\ \\ 11\\ &\\ \\ 55\\ &\\ \\ 56\\ \\\\ \n",
    "\\hline \\ \\ 57\\ &\\ \\ 58\\ &\\ \\ 6\\ &\\ \\ 5\\ &\\ \\ 4\\ &\\ \\ 3\\ &\\ \\ 63\\ &\\ \\ 64\\ \\\\ \n",
    "\\hline \\end{array}$"
   ]
  },
  {
   "cell_type": "markdown",
   "metadata": {
    "collapsed": false
   },
   "source": [
    "### Método LUX"
   ]
  },
  {
   "cell_type": "markdown",
   "metadata": {
    "collapsed": false
   },
   "source": [
    "Éste último procedimiento es útila para cuadrados imparmente pares de acuerdo a Miguel Morales (2006).\n",
    "\n",
    "1. Iniciamos dividiendo nuestra cuadrícula en cuadrados de lado 2 y etiquetamos cada cuadrado el siguiente forma: L en las primeras $\\lfloor \\frac{n}{4} \\rfloor +1$ filas, U en la fila siguiente y X en el resto."
   ]
  },
  {
   "cell_type": "markdown",
   "metadata": {
    "collapsed": false
   },
   "source": [
    "$\\begin{array}{|c|c|c|c|c|c|c|c|c|c|}\n",
    "\\hline \\ \\ L\\ &\\ \\ \\ &\\ \\ L\\ &\\ \\ \\ &\\ \\ L\\ &\\ \\ \\ &\\ \\ L\\ &\\ \\ \\ &\\ \\ L\\ &\\ \\ \\ \\\\  \n",
    "\\hline \\ \\ \\ &\\ \\ \\ &\\ \\ \\ &\\ \\ \\ &\\ \\ \\ &\\ \\ \\ &\\ \\ \\ &\\ \\ \\ &\\ \\ \\ &\\ \\ \\ \\\\ \n",
    "\\hline \\ \\ L\\ &\\ \\ \\ &\\ \\ L\\ &\\ \\ \\ &\\ \\ L\\ &\\ \\ \\ &\\ \\ L\\ &\\ \\ \\ &\\ \\ L\\ &\\ \\ \\ \\\\  \n",
    "\\hline \\ \\ \\ &\\ \\ \\ &\\ \\ \\ &\\ \\ \\ &\\ \\ \\ &\\ \\ \\ &\\ \\ \\ &\\ \\ \\ &\\ \\ \\ &\\ \\ \\ \\\\ \n",
    "\\hline \\ \\ L\\ &\\ \\ \\ &\\ \\ L\\ &\\ \\ \\ &\\ \\ L\\ &\\ \\ \\ &\\ \\ L\\ &\\ \\ \\ &\\ \\ L\\ &\\ \\ \\ \\\\  \n",
    "\\hline \\ \\ \\ &\\ \\ \\ &\\ \\ \\ &\\ \\ \\ &\\ \\ \\ &\\ \\ \\ &\\ \\ \\ &\\ \\ \\ &\\ \\ \\ &\\ \\ \\ \\\\ \n",
    "\\hline \\ \\ U\\ &\\ \\ \\ &\\ \\ U\\ &\\ \\ \\ &\\ \\ U\\ &\\ \\ \\ &\\ \\ U\\ &\\ \\ \\ &\\ \\ U\\ &\\ \\ \\ \\\\ \n",
    "\\hline \\ \\ \\ &\\ \\ \\ &\\ \\ \\ &\\ \\ \\ &\\ \\ \\ &\\ \\ \\ &\\ \\ \\ &\\ \\ \\ &\\ \\ \\ &\\ \\ \\ \\\\ \n",
    "\\hline \\ \\ X\\ &\\ \\ \\ &\\ \\ X\\ &\\ \\ \\ &\\ \\ X\\ &\\ \\ \\ &\\ \\ X\\ &\\ \\ \\ &\\ \\ X\\ &\\ \\ \\ \\\\ \n",
    "\\hline \\ \\ \\ &\\ \\ \\ &\\ \\ \\ &\\ \\ \\ &\\ \\ \\ &\\ \\ \\ &\\ \\ \\ &\\ \\ \\ &\\ \\ \\ &\\ \\ \\ \\\\ \n",
    "\\hline \\end{array}$"
   ]
  },
  {
   "cell_type": "markdown",
   "metadata": {
    "collapsed": false
   },
   "source": [
    "2. Intercambiamos la U del centro con la L superior a ésta."
   ]
  },
  {
   "cell_type": "markdown",
   "metadata": {
    "collapsed": false
   },
   "source": [
    "$\\begin{array}{|c|c|c|c|c|c|c|c|c|c|}\n",
    "\\hline \\ \\ L\\ &\\ \\ \\ &\\ \\ L\\ &\\ \\ \\ &\\ \\ L\\ &\\ \\ \\ &\\ \\ L\\ &\\ \\ \\ &\\ \\ L\\ &\\ \\ \\ \\\\  \n",
    "\\hline \\ \\ \\ &\\ \\ \\ &\\ \\ \\ &\\ \\ \\ &\\ \\ \\ &\\ \\ \\ &\\ \\ \\ &\\ \\ \\ &\\ \\ \\ &\\ \\ \\ \\\\ \n",
    "\\hline \\ \\ L\\ &\\ \\ \\ &\\ \\ L\\ &\\ \\ \\ &\\ \\ L\\ &\\ \\ \\ &\\ \\ L\\ &\\ \\ \\ &\\ \\ L\\ &\\ \\ \\ \\\\  \n",
    "\\hline \\ \\ \\ &\\ \\ \\ &\\ \\ \\ &\\ \\ \\ &\\ \\ \\ &\\ \\ \\ &\\ \\ \\ &\\ \\ \\ &\\ \\ \\ &\\ \\ \\ \\\\ \n",
    "\\hline \\ \\ L\\ &\\ \\ \\ &\\ \\ L\\ &\\ \\ \\ &\\ \\ U\\ &\\ \\ \\ &\\ \\ L\\ &\\ \\ \\ &\\ \\ L\\ &\\ \\ \\ \\\\  \n",
    "\\hline \\ \\ \\ &\\ \\ \\ &\\ \\ \\ &\\ \\ \\ &\\ \\ \\ &\\ \\ \\ &\\ \\ \\ &\\ \\ \\ &\\ \\ \\ &\\ \\ \\ \\\\ \n",
    "\\hline \\ \\ U\\ &\\ \\ \\ &\\ \\ U\\ &\\ \\ \\ &\\ \\ L\\ &\\ \\ \\ &\\ \\ U\\ &\\ \\ \\ &\\ \\ U\\ &\\ \\ \\ \\\\ \n",
    "\\hline \\ \\ \\ &\\ \\ \\ &\\ \\ \\ &\\ \\ \\ &\\ \\ \\ &\\ \\ \\ &\\ \\ \\ &\\ \\ \\ &\\ \\ \\ &\\ \\ \\ \\\\ \n",
    "\\hline \\ \\ X\\ &\\ \\ \\ &\\ \\ X\\ &\\ \\ \\ &\\ \\ X\\ &\\ \\ \\ &\\ \\ X\\ &\\ \\ \\ &\\ \\ X\\ &\\ \\ \\ \\\\ \n",
    "\\hline \\ \\ \\ &\\ \\ \\ &\\ \\ \\ &\\ \\ \\ &\\ \\ \\ &\\ \\ \\ &\\ \\ \\ &\\ \\ \\ &\\ \\ \\ &\\ \\ \\ \\\\ \n",
    "\\hline \\end{array}$"
   ]
  },
  {
   "cell_type": "markdown",
   "metadata": {
    "collapsed": false
   },
   "source": [
    "3. Etiquetamos los cuarados de lado 2 desde 1 hasta $\\frac{n^2}{4}$ siguiendo el método siamés."
   ]
  },
  {
   "cell_type": "markdown",
   "metadata": {
    "collapsed": false
   },
   "source": [
    "$\\begin{array}{|c|c|c|c|c|c|c|c|c|c|}\n",
    "\\hline \\ \\ L\\ &\\ \\ \\ &\\ \\ L\\ &\\ \\ \\ &\\ \\ L\\ &\\ \\ \\ &\\ \\ L\\ &\\ \\ \\ &\\ \\ L\\ &\\ \\ \\ \\\\  \n",
    "\\hline \\ \\ \\ &\\ \\ 9\\ &\\ \\ \\ &\\ \\ 2\\ &\\ \\ \\ &\\ \\ 25\\ &\\ \\ \\ &\\ \\ 18\\ &\\ \\ \\ &\\ \\ 11\\ \\\\ \n",
    "\\hline \\ \\ L\\ &\\ \\ \\ &\\ \\ L\\ &\\ \\ \\ &\\ \\ L\\ &\\ \\ \\ &\\ \\ L\\ &\\ \\ \\ &\\ \\ L\\ &\\ \\ \\ \\\\  \n",
    "\\hline \\ \\ \\ &\\ \\ 3\\ &\\ \\ \\ &\\ \\ 21\\ &\\ \\ \\ &\\ \\ 19\\ &\\ \\ \\ &\\ \\ 12\\ &\\ \\ \\ &\\ \\ 10\\ \\\\ \n",
    "\\hline \\ \\ L\\ &\\ \\ \\ &\\ \\ L\\ &\\ \\ \\ &\\ \\ U\\ &\\ \\ \\ &\\ \\ L\\ &\\ \\ \\ &\\ \\ L\\ &\\ \\ \\ \\\\  \n",
    "\\hline \\ \\ \\ &\\ \\ 22\\ &\\ \\ \\ &\\ \\ 20\\ &\\ \\ \\ &\\ \\ 13\\ &\\ \\ \\ &\\ \\ 6\\ &\\ \\ \\ &\\ \\ 4\\ \\\\ \n",
    "\\hline \\ \\ U\\ &\\ \\ \\ &\\ \\ U\\ &\\ \\ \\ &\\ \\ L\\ &\\ \\ \\ &\\ \\ U\\ &\\ \\ \\ &\\ \\ U\\ &\\ \\ \\ \\\\ \n",
    "\\hline \\ \\ \\ &\\ \\ 16\\ &\\ \\ \\ &\\ \\ 14\\ &\\ \\ \\ &\\ \\ 7\\ &\\ \\ \\ &\\ \\ 5\\ &\\ \\ \\ &\\ \\ 23\\ \\\\ \n",
    "\\hline \\ \\ X\\ &\\ \\ \\ &\\ \\ X\\ &\\ \\ \\ &\\ \\ X\\ &\\ \\ \\ &\\ \\ X\\ &\\ \\ \\ &\\ \\ X\\ &\\ \\ \\ \\\\ \n",
    "\\hline \\ \\ \\ &\\ \\ 15\\ &\\ \\ \\ &\\ \\ 8\\ &\\ \\ \\ &\\ \\ 1\\ &\\ \\ \\ &\\ \\ 24\\ &\\ \\ \\ &\\ \\ 17\\ \\\\ \n",
    "\\hline \\end{array}$"
   ]
  },
  {
   "cell_type": "markdown",
   "metadata": {
    "collapsed": false
   },
   "source": [
    "4. Dentro de cada cuadrado de lado 2, acomodamos los números $a=4i-3, b=4i-2, c=4i-1, d=4i$ de acuerdo a la letra correspondiente según se muestra a continuación, donde $i$ es el número asigando en el inciso anterior."
   ]
  },
  {
   "cell_type": "markdown",
   "metadata": {
    "collapsed": false
   },
   "source": [
    "$L=\\begin{array}{|c|c|}\n",
    "\\hline \\ \\ d\\ &\\ \\ a\\ \\\\  \n",
    "\\hline \\ \\ b\\ &\\ \\ c\\ \\\\ \n",
    "\\hline \\end{array}$\n",
    "$U=\\begin{array}{|c|c|}\n",
    "\\hline \\ \\ a\\ &\\ \\ d\\ \\\\  \n",
    "\\hline \\ \\ b\\ &\\ \\ c\\ \\\\ \n",
    "\\hline \\end{array}$\n",
    "$X=\\begin{array}{|c|c|}\n",
    "\\hline \\ \\ a\\ &\\ \\ d\\ \\\\  \n",
    "\\hline \\ \\ c\\ &\\ \\ b\\ \\\\ \n",
    "\\hline \\end{array}$"
   ]
  },
  {
   "cell_type": "markdown",
   "metadata": {
    "collapsed": false
   },
   "source": [
    "Así, obtenemos el siguiente cuadrado mágico."
   ]
  },
  {
   "cell_type": "markdown",
   "metadata": {
    "collapsed": false
   },
   "source": [
    "$\\begin{array}{|c|c|c|c|c|c|c|c|c|c|}\n",
    "\\hline \\ \\ 36\\ &\\ \\ 33\\ &\\ \\ 8\\ &\\ \\ 5\\ &\\ \\ 100\\ &\\ \\ 97\\ &\\ \\ 72\\ &\\ \\ 69\\ &\\ \\ 44\\ &\\ \\ 41\\ \\\\  \n",
    "\\hline \\ \\ 34\\ &\\ \\ 35\\ &\\ \\ 6\\ &\\ \\ 7\\ &\\ \\ 98\\ &\\ \\ 99\\ &\\ \\ 70\\ &\\ \\ 71\\ &\\ \\ 42\\ &\\ \\ 43\\ \\\\ \n",
    "\\hline \\ \\ 12\\ &\\ \\ 9\\ &\\ \\ 84\\ &\\ \\ 81\\ &\\ \\ 76\\ &\\ \\ 73\\ &\\ \\ 48\\ &\\ \\ 45\\ &\\ \\ 40\\ &\\ \\ 37\\ \\\\  \n",
    "\\hline \\ \\ 10\\ &\\ \\ 11\\ &\\ \\ 82\\ &\\ \\ 83\\ &\\ \\ 74\\ &\\ \\ 75\\ &\\ \\ 46\\ &\\ \\ 47\\ &\\ \\ 38\\ &\\ \\ 39\\ \\\\ \n",
    "\\hline \\ \\ 88\\ &\\ \\ 85\\ &\\ \\ 80\\ &\\ \\ 77\\ &\\ \\ 49\\ &\\ \\ 52\\ &\\ \\ 24\\ &\\ \\ 21\\ &\\ \\ 16\\ &\\ \\ 13\\ \\\\  \n",
    "\\hline \\ \\ 86\\ &\\ \\ 87\\ &\\ \\ 78\\ &\\ \\ 79\\ &\\ \\ 50\\ &\\ \\ 51\\ &\\ \\ 22\\ &\\ \\ 23\\ &\\ \\ 14\\ &\\ \\ 15\\ \\\\ \n",
    "\\hline \\ \\ 61\\ &\\ \\ 64\\ &\\ \\ 53\\ &\\ \\ 56\\ &\\ \\ 28\\ &\\ \\ 25\\ &\\ \\ 17\\ &\\ \\ 20\\ &\\ \\ 89\\ &\\ \\ 92\\ \\\\ \n",
    "\\hline \\ \\ 62\\ &\\ \\ 63\\ &\\ \\ 54\\ &\\ \\ 55\\ &\\ \\ 26\\ &\\ \\ 27\\ &\\ \\ 18\\ &\\ \\ 19\\ &\\ \\ 90\\ &\\ \\ 91\\ \\\\ \n",
    "\\hline \\ \\ 57\\ &\\ \\ 60\\ &\\ \\ 29\\ &\\ \\ 32\\ &\\ \\ 1\\ &\\ \\ 4\\ &\\ \\ 93\\ &\\ \\ 96\\ &\\ \\ 65\\ &\\ \\ 68\\ \\\\ \n",
    "\\hline \\ \\ 59\\ &\\ \\ 58\\ &\\ \\ 31\\ &\\ \\ 30\\ &\\ \\ 3\\ &\\ \\ 2\\ &\\ \\ 95\\ &\\ \\ 94\\ &\\ \\ 67\\ &\\ \\ 66\\ \\\\ \n",
    "\\hline \\end{array}$"
   ]
  },
  {
   "cell_type": "markdown",
   "metadata": {
    "collapsed": false
   },
   "source": [
    "## Cuadrados mágicos especiales"
   ]
  },
  {
   "cell_type": "markdown",
   "metadata": {
    "collapsed": false
   },
   "source": [
    "* Multiplicación\n",
    "\n",
    "Construyamos un cuadrado mágico de 3x3 con el método siamés empezando con 0 en el borde superior y escogiendo la dirección superior derecha."
   ]
  },
  {
   "cell_type": "markdown",
   "metadata": {
    "collapsed": false
   },
   "source": [
    "$\\begin{array}{|c|c|c|}\n",
    "\\hline \\ \\ 7\\ &\\ \\ 0\\ &\\ \\ 5\\ \\\\  \n",
    "\\hline \\ \\ 2\\ &\\ \\ 4\\ &\\ \\ 6\\ \\\\ \n",
    "\\hline \\ \\ 3\\ &\\ \\ 8\\ &\\ \\ 1\\ \\\\ \n",
    "\\hline \\end{array}$"
   ]
  },
  {
   "cell_type": "markdown",
   "metadata": {
    "collapsed": false
   },
   "source": [
    "Ahora, en cada casilla, escribimos $2^i$ donde $i$ es el número que le asignamos en el paso anterior."
   ]
  },
  {
   "cell_type": "markdown",
   "metadata": {
    "collapsed": false
   },
   "source": [
    "$\\begin{array}{|c|c|c|}\n",
    "\\hline \\ \\ 128\\ &\\ \\ 1\\ &\\ \\ 32\\ \\\\  \n",
    "\\hline \\ \\ 4\\ &\\ \\ 16\\ &\\ \\ 64\\ \\\\ \n",
    "\\hline \\ \\ 8\\ &\\ \\ 256\\ &\\ \\ 2\\ \\\\ \n",
    "\\hline \\end{array}$"
   ]
  },
  {
   "cell_type": "markdown",
   "metadata": {
    "collapsed": false
   },
   "source": [
    "Notemos que en éste cuadrado, la suma no es constante, pero la multipliación sí: el proucto de cada fila, de cada columna y de cada digonal principal es $2^{12}=4096$.\n",
    "\n",
    "En general, si tomamos cualquier cuadrado mágico cuya suma constante sea $s$ y en cada casilla escribimos $k^i$, entonces el cuadrado resultante será un cuadrado mágico de multiplicación constante $k^s$."
   ]
  },
  {
   "cell_type": "markdown",
   "metadata": {
    "collapsed": false
   },
   "source": [
    "* Sumas y restas\n",
    "\n",
    "Consideremos el siguiente cuadrado mágico de 3x3:"
   ]
  },
  {
   "cell_type": "markdown",
   "metadata": {
    "collapsed": false
   },
   "source": [
    "$\\begin{array}{|c|c|c|}\n",
    "\\hline \\ \\ 2\\ &\\ \\ 1\\ &\\ \\ 6\\ \\\\  \n",
    "\\hline \\ \\ 3\\ &\\ \\ 5\\ &\\ \\ 7\\ \\\\ \n",
    "\\hline \\ \\ 4\\ &\\ \\ 9\\ &\\ \\ 8\\ \\\\ \n",
    "\\hline \\end{array}$"
   ]
  },
  {
   "cell_type": "markdown",
   "metadata": {
    "collapsed": false
   },
   "source": [
    "Es claro ver que en este caso, ni la suma ni la multiplicación son constantes, sin embargo, si sumamos dos números y restamos el tercero, siempr podemos obtener 5. Esto no quiere decir que al cambiar el signo de algunos números obtendremos un cuadrado mágico convencional pues no siempre es el mismo número el que se ha de restar.\n",
    "\n",
    "Filas: $-2+1+6=3-5+7=4+9-8$\n",
    "\n",
    "Columnas: $-2+3+4=1-5+9=6+7-8$\n",
    "\n",
    "Diagonaes principales: $2-5+8=6-5+4$"
   ]
  },
  {
   "cell_type": "markdown",
   "metadata": {
    "collapsed": false
   },
   "source": [
    "* Suma constante\n",
    "\n",
    "Observemos el siguiente cuadrado mágico de 4x4."
   ]
  },
  {
   "cell_type": "markdown",
   "metadata": {
    "collapsed": false
   },
   "source": [
    "$\\begin{array}{|c|c|c|c|c|}\n",
    "\\hline \\ \\ 14\\ &\\ \\ 16\\ &\\ \\ 13\\ &\\ \\ 15\\ \\\\  \n",
    "\\hline \\ \\ 6\\ &\\ \\ 8\\ &\\ \\ 5\\ &\\ \\ 7\\ \\\\ \n",
    "\\hline \\ \\ 2\\ &\\ \\ 4\\ &\\ \\ 1\\ &\\ \\ 3\\ \\\\ \n",
    "\\hline \\ \\ 10\\ &\\ \\ 12\\ &\\ \\ 9\\ &\\ \\ 11\\ \\\\ \n",
    "\\hline \\end{array}$"
   ]
  },
  {
   "cell_type": "markdown",
   "metadata": {
    "collapsed": false
   },
   "source": [
    "En este cuadrado las hileras no suman siempre lo mismo, pero realicemos el siguiente procedimiento: tomemos un número cualquiera y eliminemos el resto de números en la misma fila y en la misma columna; de los números restantes, seleccionamos otro número y repetimos la acción ya descrita, continuamos así hasta quedarnos con sólo cuatro números. En este ejemplo, seleccionamos primero el 8, luego el 10 y por último el 1."
   ]
  },
  {
   "cell_type": "markdown",
   "metadata": {
    "collapsed": false
   },
   "source": [
    "$\\begin{array}{|c|c|c|c|c|}\n",
    "\\hline \\ \\ 14\\ &\\ \\ \\ &\\ \\ 13\\ &\\ \\ 15\\ \\\\  \n",
    "\\hline \\ \\ \\ &\\ \\ 8\\ &\\ \\ \\ &\\ \\ \\ \\\\ \n",
    "\\hline \\ \\ 2\\ &\\ \\ \\ &\\ \\ 1\\ &\\ \\ 3\\ \\\\ \n",
    "\\hline \\ \\ 10\\ &\\ \\ \\ &\\ \\ 9\\ &\\ \\ 11\\ \\\\ \n",
    "\\hline \\end{array}$\n",
    "$\\begin{array}{|c|c|c|c|c|}\n",
    "\\hline \\ \\ \\ &\\ \\ \\ &\\ \\ 13\\ &\\ \\ 15\\ \\\\  \n",
    "\\hline \\ \\ \\ &\\ \\ 8\\ &\\ \\ \\ &\\ \\ \\ \\\\ \n",
    "\\hline \\ \\ \\ &\\ \\ \\ &\\ \\ 1\\ &\\ \\ 3\\ \\\\ \n",
    "\\hline \\ \\ 10\\ &\\ \\ \\ &\\ \\ \\ &\\ \\ \\ \\\\ \n",
    "\\hline \\end{array}$\n",
    "$\\begin{array}{|c|c|c|c|c|}\n",
    "\\hline \\ \\ \\ &\\ \\ \\ &\\ \\ \\ &\\ \\ 15\\ \\\\  \n",
    "\\hline \\ \\ \\ &\\ \\ 8\\ &\\ \\ \\ &\\ \\ \\ \\\\ \n",
    "\\hline \\ \\ \\ &\\ \\ \\ &\\ \\ 1\\ &\\ \\ \\ \\\\ \n",
    "\\hline \\ \\ 10\\ &\\ \\ \\ &\\ \\ \\ &\\ \\ \\ \\\\ \n",
    "\\hline \\end{array}$"
   ]
  },
  {
   "cell_type": "markdown",
   "metadata": {
    "collapsed": false
   },
   "source": [
    "Si sumamos los números que hemos obtenido el resultado es 34, utilizando este cuadrado, no importa cuántas veces repitamos el mismo procedimiento anterior, la suma de los cuatro números obtenidos siempre será 34."
   ]
  },
  {
   "cell_type": "markdown",
   "metadata": {
    "collapsed": false
   },
   "source": [
    "Consideremos los conjuntos $\\{ 1,2,3,4\\}$ y $\\{0,4,8,12\\}$, si sumamos todos sus elementos, el resultado es $34$; notemos ahora la siguiente particularidad en nuestro cuadrado mágico."
   ]
  },
  {
   "cell_type": "markdown",
   "metadata": {
    "collapsed": false
   },
   "source": [
    "$\\begin{array}{|c|c|c|c|c|}\n",
    "\\hline \\ \\ \\ &\\ \\ 2\\ &\\ \\ 4\\ &\\ \\ 1\\ &\\ \\ 3\\ \\\\  \n",
    "\\hline \\ \\ 12\\ &\\ \\ 14\\ &\\ \\ 16\\ &\\ \\ 13\\ &\\ \\ 15\\ \\\\ \n",
    "\\hline \\ \\ 4\\ &\\ \\ 6\\ &\\ \\ 8\\ &\\ \\ 5\\ &\\ \\ 7\\ \\\\ \n",
    "\\hline \\ \\ 0\\ &\\ \\ 2\\ &\\ \\ 4\\ &\\ \\ 1\\ &\\ \\ 3\\ \\\\ \n",
    "\\hline \\ \\ 8\\ &\\ \\ 10\\ &\\ \\ 12\\ &\\ \\ 9\\ &\\ \\ 11\\ \\\\ \n",
    "\\hline \\end{array}$"
   ]
  },
  {
   "cell_type": "markdown",
   "metadata": {
    "collapsed": false
   },
   "source": [
    "Así es fácil notar que al sumar coordenada a coordenada cada uno de los elementos del producto de nuestros conjuntos, obtenemos nuestro cuadrado mágico; es por ello que, al realizar el procedimiento descrito en un inicio nos aseguramos de tomar siempre cada elemento de cada conjunto, por eso la suma siempre es constante.\n",
    "\n",
    "Para construir uno de estos cuadrados mágicos a continuación se muestra el método descrito por Martin Gardner (1999).\n",
    "\n",
    "1. Para construir un cuadrado mágico de lado $n$ se selecciona un número $s$ que será la constante de la suma. Para ejemplificar el procedimiento, tomaremos $n=5$ y $s=65$. Si lo que queremos es construir un cuadrado con los primeros $n^2$ naturales, entonces debe suceder que $s=\\frac{n^3+n}{2}$.\n",
    "\n",
    "2. A continuación calculamos $u=\\frac{1}{n}(s-\\frac{n^3-n}{2})$. En nuestro ejemplo, $u=\\frac{1}{5}(65-\\frac{5^3-5}{2})=1$\n",
    "\n",
    "3. Seleccionamos una casilla de nuestra cuadrícula y escribimos en ella $u$; en las demás casillas de la misma fila escribimos $u+1, u+2,..., u+n-1$ como prefiramos."
   ]
  },
  {
   "cell_type": "markdown",
   "metadata": {
    "collapsed": false
   },
   "source": [
    "$\\begin{array}{|c|c|c|c|c|}\n",
    "\\hline \\ \\ \\ &\\ \\ \\ &\\ \\ \\ &\\ \\ \\ &\\ \\ \\ \\\\  \n",
    "\\hline \\ \\ 5\\ &\\ \\ 1\\ &\\ \\ 3\\ &\\ \\ 2\\ &\\ \\ 4\\ \\\\ \n",
    "\\hline \\ \\ \\ &\\ \\ \\ &\\ \\ \\ &\\ \\ \\ &\\ \\ \\ \\\\ \n",
    "\\hline \\ \\ \\ &\\ \\ \\ &\\ \\ \\ &\\ \\ \\ &\\ \\ \\ \\\\ \n",
    "\\hline \\ \\ \\ &\\ \\ \\ &\\ \\ \\ &\\ \\ \\ &\\ \\ \\ \\\\ \n",
    "\\hline \\end{array}$"
   ]
  },
  {
   "cell_type": "markdown",
   "metadata": {
    "collapsed": false
   },
   "source": [
    "4. Tomamos cualquier otra fila y escribimos los números que continúan pero respetando el orden con el que los escribimos en la fila anterior."
   ]
  },
  {
   "cell_type": "markdown",
   "metadata": {
    "collapsed": false
   },
   "source": [
    "$\\begin{array}{|c|c|c|c|c|}\n",
    "\\hline \\ \\ \\ &\\ \\ \\ &\\ \\ \\ &\\ \\ \\ &\\ \\ \\ \\\\  \n",
    "\\hline \\ \\ 5\\ &\\ \\ 1\\ &\\ \\ 3\\ &\\ \\ 2\\ &\\ \\ 4\\ \\\\ \n",
    "\\hline \\ \\ \\ &\\ \\ \\ &\\ \\ \\ &\\ \\ \\ &\\ \\ \\ \\\\ \n",
    "\\hline \\ \\ \\ &\\ \\ \\ &\\ \\ \\ &\\ \\ \\ &\\ \\ \\ \\\\ \n",
    "\\hline \\ \\ 10\\ &\\ \\ 6\\ &\\ \\ 8\\ &\\ \\ 7\\ &\\ \\ 9\\ \\\\ \n",
    "\\hline \\end{array}$"
   ]
  },
  {
   "cell_type": "markdown",
   "metadata": {
    "collapsed": false
   },
   "source": [
    "5. Repetimos el procedimiento anterior hasta terminar, recordemos que podemos escoger cualquier fila pero respetar el orden de las casillas estableciddo al principio."
   ]
  },
  {
   "cell_type": "markdown",
   "metadata": {
    "collapsed": false
   },
   "source": [
    "$\\begin{array}{|c|c|c|c|c|}\n",
    "\\hline \\ \\ 15\\ &\\ \\ 11\\ &\\ \\ 13\\ &\\ \\ 12\\ &\\ \\ 14\\ \\\\  \n",
    "\\hline \\ \\ 5\\ &\\ \\ 1\\ &\\ \\ 3\\ &\\ \\ 2\\ &\\ \\ 4\\ \\\\ \n",
    "\\hline \\ \\ 20\\ &\\ \\ 16\\ &\\ \\ 18\\ &\\ \\ 17\\ &\\ \\ 19\\ \\\\ \n",
    "\\hline \\ \\ 25\\ &\\ \\ 21\\ &\\ \\ 23\\ &\\ \\ 22\\ &\\ \\ 24\\ \\\\ \n",
    "\\hline \\ \\ 10\\ &\\ \\ 6\\ &\\ \\ 8\\ &\\ \\ 7\\ &\\ \\ 9\\ \\\\ \n",
    "\\hline \\end{array}$"
   ]
  },
  {
   "cell_type": "markdown",
   "metadata": {
    "collapsed": false
   },
   "source": [
    "### Referencias"
   ]
  },
  {
   "cell_type": "markdown",
   "metadata": {
    "collapsed": false
   },
   "source": [
    "Brandreth G. (1990). Juegos con números. Barcelona, España: Gedisa.\n",
    "\n",
    "Comes M & Comes R. (2009). LOS CUADRADOS MÁGICOS MATEMÁTICOS EN AL-ANDALUS. EL TRATADO DE AZARQUIEL, 33. 1 de noviembre de 2019.\n",
    "\n",
    "Fernández J. (S.f.). Cuadros mágicos: Cómo hacer cuadrados mágicos fácilmente. 2 de noviembre de 2019, de Soy matemáticas Sitio web: https://soymatematicas.com/cuadrados-magicos/\n",
    "\n",
    "Gardner M. (1999). Acertijos matemáticos. México: Selector.\n",
    "\n",
    "Morales M. (2006). Cuadrados mágicos. 1 de noviembre de 2019, de Gaussianos Sitio web: https://www.gaussianos.com/cuadrados-magicos/\n",
    "\n",
    "Velazquez L. (s.f). Cuadrados Mágicos y Espacios Vectoriales, 87. 1 de noviembre de 2019, De Academia Base de datos.\n"
   ]
  }
 ],
 "metadata": {
  "kernelspec": {
   "display_name": "Python 3 (Anaconda 2019)",
   "env": {
    "LD_LIBRARY_PATH": "/ext/anaconda-2019.03/lib",
    "PROJ_LIB": "/ext/anaconda-2019.03/share/proj",
    "PYTHONHOME": "/ext/anaconda-2019.03/lib/python3.7",
    "PYTHONPATH": "/ext/anaconda-2019.03/lib/python3.7:/ext/anaconda-2019.03/lib/python3.7/site-packages"
   },
   "language": "python",
   "metadata": {
    "cocalc": {
     "description": "Python/R distribution for data science",
     "priority": 5,
     "url": "https://www.anaconda.com/distribution/"
    }
   },
   "name": "anaconda2019"
  },
  "language_info": {
   "codemirror_mode": {
    "name": "ipython",
    "version": 3
   },
   "file_extension": ".py",
   "mimetype": "text/x-python",
   "name": "python",
   "nbconvert_exporter": "python",
   "pygments_lexer": "ipython3",
   "version": "3.7.3"
  }
 },
 "nbformat": 4,
 "nbformat_minor": 0
}